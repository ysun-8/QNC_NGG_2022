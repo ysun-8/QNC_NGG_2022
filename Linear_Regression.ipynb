{
  "nbformat": 4,
  "nbformat_minor": 0,
  "metadata": {
    "colab": {
      "provenance": [],
      "collapsed_sections": [],
      "authorship_tag": "ABX9TyOG+wuDBJ5QvT9UKlgxOnZ+",
      "include_colab_link": true
    },
    "kernelspec": {
      "name": "python3",
      "display_name": "Python 3"
    },
    "language_info": {
      "name": "python"
    }
  },
  "cells": [
    {
      "cell_type": "markdown",
      "metadata": {
        "id": "view-in-github",
        "colab_type": "text"
      },
      "source": [
        "<a href=\"https://colab.research.google.com/github/ysun-8/QNC_NGG_2022/blob/main/Linear_Regression.ipynb\" target=\"_parent\"><img src=\"https://colab.research.google.com/assets/colab-badge.svg\" alt=\"Open In Colab\"/></a>"
      ]
    },
    {
      "cell_type": "markdown",
      "source": [
        "Answers to questions: \n",
        "\n",
        "1) For this London Taxi dataset, it appears the data are more quadratic than linear. I think correlation is a decent way to analyze the data (e.g. whether there is some association between time as driver and adjusted response), but linear regression to find the slope appears not the best way to analyze the data.  In the follow-up study, one cannot make inferences about casualty. This is at most just an association; to look at casuality, one needs to do a good controlled experiment, such as using random assignment & make bus drivers start driving taxis and see if results change. \n",
        "\n",
        "2) Claims will not be strong given such a small n, and the confidence intervals would be huge. In part B, mean dipole moment is correlated with total amount of musical experience. I think the different types of musicians should be explicitly modeled as a covariate. \n",
        "\n"
      ],
      "metadata": {
        "id": "c2agojsYF54v"
      }
    },
    {
      "cell_type": "code",
      "execution_count": 5,
      "metadata": {
        "id": "PmFFMhfMjENz"
      },
      "outputs": [],
      "source": [
        "import numpy as np\n",
        "import scipy.stats as st\n",
        "import matplotlib.pyplot as plt\n",
        "from sklearn.linear_model import LinearRegression"
      ]
    },
    {
      "cell_type": "code",
      "source": [
        "age = [3, 4, 5, 6, 7, 8, 9, 11, 12, 14, 15, 16, 17]\n",
        "wing = [1.4, 1.5, 2.2, 2.4, 3.1, 3.2, 3.2, 3.9, 4.1, 4.7, 4.5, 5.2, 5.0]\n",
        "\n",
        "plt.scatter(age, wing)\n",
        "plt.show()"
      ],
      "metadata": {
        "colab": {
          "base_uri": "https://localhost:8080/",
          "height": 265
        },
        "id": "Ajjp0GlGjPmj",
        "outputId": "963c7f81-bfd4-4d82-d60e-1c6b3cb3121c"
      },
      "execution_count": 3,
      "outputs": [
        {
          "output_type": "display_data",
          "data": {
            "text/plain": [
              "<Figure size 432x288 with 1 Axes>"
            ],
            "image/png": "[encoded data removed]"
          },
          "metadata": {
            "needs_background": "light"
          }
        }
      ]
    },
    {
      "cell_type": "code",
      "source": [
        "x = np.array(age).reshape((-1, 1))\n",
        "y = wing\n",
        "model = LinearRegression().fit(x, y)\n",
        "\n",
        "predicted = model.predict(x)\n",
        "\n",
        "plt.scatter(age, wing)\n",
        "plt.plot(age, predicted, color = \"black\")\n",
        "plt.show()"
      ],
      "metadata": {
        "colab": {
          "base_uri": "https://localhost:8080/",
          "height": 268
        },
        "id": "PO9oXwrxlCQc",
        "outputId": "bd68db2d-2715-4ebb-fb56-547a8fcee2ce"
      },
      "execution_count": 17,
      "outputs": [
        {
          "output_type": "display_data",
          "data": {
            "text/plain": [
              "<Figure size 432x288 with 1 Axes>"
            ],
            "image/png": "[encoded data removed]"
          },
          "metadata": {
            "needs_background": "light"
          }
        }
      ]
    },
    {
      "cell_type": "code",
      "source": [
        "model.score(x, y) # coefficient of determination\n",
        "\n",
        "stdev = np.sqrt(sum((model.predict(x) -y)**2) / (len(y) - 2))\n",
        "\n",
        "model.predict(x) + 1.96 * stdev # upper confidence interval\n",
        "model.predict(x) - 1.96 * stdev # lower confidence interval"
      ],
      "metadata": {
        "colab": {
          "base_uri": "https://localhost:8080/"
        },
        "id": "XYP4wP9TmFg2",
        "outputId": "6596389e-1ab6-4fb0-9418-ec6c2a05fcc3"
      },
      "execution_count": 16,
      "outputs": [
        {
          "output_type": "execute_result",
          "data": {
            "text/plain": [
              "array([1.12230098, 1.3869851 , 1.65166922, 1.91635335, 2.18103747,\n",
              "       2.44572159, 2.71040571, 3.23977395, 3.50445807, 4.03382631,\n",
              "       4.29851043, 4.56319455, 4.82787867])"
            ]
          },
          "metadata": {},
          "execution_count": 16
        }
      ]
    },
    {
      "cell_type": "code",
      "source": [
        "x = np.array(age).reshape((-1, 1))\n",
        "y = wing + np.random.normal(0, 1, len(wing)) # adding random noise!\n",
        "model = LinearRegression().fit(x, y)\n",
        "\n",
        "predicted = model.predict(x)\n",
        "\n",
        "plt.scatter(x, y)\n",
        "plt.plot(x, predicted, color = \"black\")\n",
        "plt.show()"
      ],
      "metadata": {
        "colab": {
          "base_uri": "https://localhost:8080/",
          "height": 265
        },
        "id": "0ISk0v-rnJQm",
        "outputId": "350131f7-b213-4800-8694-e0792ec0909a"
      },
      "execution_count": 21,
      "outputs": [
        {
          "output_type": "display_data",
          "data": {
            "text/plain": [
              "<Figure size 432x288 with 1 Axes>"
            ],
            "image/png": "[encoded data removed]"
          },
          "metadata": {
            "needs_background": "light"
          }
        }
      ]
    }
  ]
}