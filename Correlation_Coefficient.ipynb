{
  "nbformat": 4,
  "nbformat_minor": 0,
  "metadata": {
    "colab": {
      "provenance": [],
      "collapsed_sections": [],
      "authorship_tag": "ABX9TyMGwEiEv3Jw0SVz6DaWTH4H",
      "include_colab_link": true
    },
    "kernelspec": {
      "name": "python3",
      "display_name": "Python 3"
    },
    "language_info": {
      "name": "python"
    }
  },
  "cells": [
    {
      "cell_type": "markdown",
      "metadata": {
        "id": "view-in-github",
        "colab_type": "text"
      },
      "source": [
        "<a href=\"https://colab.research.google.com/github/ysun-8/QNC_NGG_2022/blob/main/Correlation_Coefficient.ipynb\" target=\"_parent\"><img src=\"https://colab.research.google.com/assets/colab-badge.svg\" alt=\"Open In Colab\"/></a>"
      ]
    },
    {
      "cell_type": "code",
      "execution_count": 1,
      "metadata": {
        "id": "PmFFMhfMjENz"
      },
      "outputs": [],
      "source": [
        "import numpy as np\n",
        "import scipy.stats as st\n",
        "import matplotlib.pyplot as plt"
      ]
    },
    {
      "cell_type": "code",
      "source": [
        "wing = [10.4, 10.8, 11.1, 10.2, 10.3, 10.2, 10.7, 10.5, 10.8, 11.2, 10.6, 11.4]\n",
        "tail = [7.4, 7.6, 7.9, 7.2, 7.4, 7.1, 7.4, 7.2, 7.8, 7.7, 7.8, 8.3]\n",
        "\n",
        "plt.scatter(wing, tail)\n",
        "plt.show()\n",
        "\n",
        "# wing and tail appear to look related"
      ],
      "metadata": {
        "colab": {
          "base_uri": "https://localhost:8080/",
          "height": 265
        },
        "id": "Ajjp0GlGjPmj",
        "outputId": "29d40979-9bf1-43f3-aaa4-2938d0434ca1"
      },
      "execution_count": 2,
      "outputs": [
        {
          "output_type": "display_data",
          "data": {
            "text/plain": [
              "<Figure size 432x288 with 1 Axes>"
            ],
            "image/png": "[encoded data removed]"
          },
          "metadata": {
            "needs_background": "light"
          }
        }
      ]
    },
    {
      "cell_type": "code",
      "source": [
        "# calculating r(X,Y) and r(Y,X)\n",
        "r = np.mean([(wing[i]-np.mean(wing))*(tail[i]-np.mean(tail)) for i in range(len(wing))])/np.std(wing)/np.std(tail)\n",
        "\n",
        "np.corrcoef(wing, tail)\n",
        "# these are returning the same value of 0.870"
      ],
      "metadata": {
        "colab": {
          "base_uri": "https://localhost:8080/"
        },
        "id": "eJkg7AoIn0NC",
        "outputId": "024650e0-dd6e-49f4-a2e5-730dd372c8a9"
      },
      "execution_count": 3,
      "outputs": [
        {
          "output_type": "execute_result",
          "data": {
            "text/plain": [
              "array([[1.        , 0.87035456],\n",
              "       [0.87035456, 1.        ]])"
            ]
          },
          "metadata": {},
          "execution_count": 3
        }
      ]
    },
    {
      "cell_type": "code",
      "source": [
        "SE = np.sqrt((1-np.square(r))/(len(wing) - 2))\n",
        "\n",
        "confidence = [r - SE * 1.96, r + SE * 1.96]\n",
        "\n",
        "confidence"
      ],
      "metadata": {
        "colab": {
          "base_uri": "https://localhost:8080/"
        },
        "id": "PJ6f7wxXqo_i",
        "outputId": "97e763b0-312e-4ef6-ab1c-83ee378b1abb"
      },
      "execution_count": 4,
      "outputs": [
        {
          "output_type": "execute_result",
          "data": {
            "text/plain": [
              "[0.5651460337155023, 1.1755630888961432]"
            ]
          },
          "metadata": {},
          "execution_count": 4
        }
      ]
    },
    {
      "cell_type": "code",
      "source": [
        "# hypothesis testing\n",
        "\n",
        "# yes, it should be considered significant at the p = 0.05 level since the 95% confidence interval above does not contain 0\n",
        "# alternatively, we compute the t-statistic as below\n",
        "t = r/SE\n",
        "p = 2.*(1-st.t.cdf(t, len(wing)-1))\n",
        "\n",
        "p"
      ],
      "metadata": {
        "colab": {
          "base_uri": "https://localhost:8080/"
        },
        "id": "AjhxVRh2ryxj",
        "outputId": "9b8714f7-428e-42df-9ad8-3b81ad4862f1"
      },
      "execution_count": 9,
      "outputs": [
        {
          "output_type": "execute_result",
          "data": {
            "text/plain": [
              "0.00016289879335062984"
            ]
          },
          "metadata": {},
          "execution_count": 9
        }
      ]
    },
    {
      "cell_type": "code",
      "source": [
        "z_r = 0.5 * np.log((1+r)/(1-r))\n",
        "z_rs = 0.5 * np.log((1+0.75)/(1-0.75))\n",
        "\n",
        "lamb = (z_r - z_rs)/(np.sqrt(1/(len(wing)-3)))\n",
        "\n",
        "p = 2.*(1-st.t.cdf(lamb, len(wing)-1))\n",
        "\n",
        "p\n",
        "\n",
        "# not significantly different!"
      ],
      "metadata": {
        "colab": {
          "base_uri": "https://localhost:8080/"
        },
        "id": "JOBq5e47NuHJ",
        "outputId": "468a3710-ccc1-4bee-ef61-5392d45a62e4"
      },
      "execution_count": 12,
      "outputs": [
        {
          "output_type": "execute_result",
          "data": {
            "text/plain": [
              "0.30123232892867957"
            ]
          },
          "metadata": {},
          "execution_count": 12
        }
      ]
    },
    {
      "cell_type": "code",
      "source": [
        "from statsmodels.stats.power import TTestIndPower\n",
        "\n",
        "power = 0.8\n",
        "\n",
        "obj = TTestIndPower()\n",
        "number_needed = obj.solve_power(effect_size = 0.5, alpha = 0.05, power = power)\n",
        "\n",
        "number_needed\n",
        "# is this the correct effect size?"
      ],
      "metadata": {
        "colab": {
          "base_uri": "https://localhost:8080/"
        },
        "id": "3DEYo6VhOnKT",
        "outputId": "55d6f41f-67f2-4f78-8683-d1e96ace9c7c"
      },
      "execution_count": 14,
      "outputs": [
        {
          "output_type": "execute_result",
          "data": {
            "text/plain": [
              "63.765611775409525"
            ]
          },
          "metadata": {},
          "execution_count": 14
        }
      ]
    }
  ]
}