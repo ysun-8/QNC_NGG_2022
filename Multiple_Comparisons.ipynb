{
  "cells": [
    {
      "cell_type": "markdown",
      "metadata": {
        "id": "view-in-github",
        "colab_type": "text"
      },
      "source": [
        "<a href=\"https://colab.research.google.com/github/ysun-8/QNC_NGG_2022/blob/main/Multiple_Comparisons.ipynb\" target=\"_parent\"><img src=\"https://colab.research.google.com/assets/colab-badge.svg\" alt=\"Open In Colab\"/></a>"
      ]
    },
    {
      "cell_type": "markdown",
      "metadata": {
        "id": "Amg6LKf2X7cG"
      },
      "source": [
        "[![Open In Colab](https://colab.research.google.com/assets/colab-badge.svg)](https://colab.research.google.com/github/PennNGG/Quantitative-Neuroscience/blob/master/Concepts/Python/Multiple%20Comparisons.ipynb)"
      ]
    },
    {
      "cell_type": "markdown",
      "metadata": {
        "id": "pKIiY6p3GRFq"
      },
      "source": [
        "# Definitions"
      ]
    },
    {
      "cell_type": "markdown",
      "metadata": {
        "id": "x7VmLUr5GTNw"
      },
      "source": [
        "The multiple comparisons problem in statistics occurs when multiple statistical inferences are done simultaneously, which greatly increases the probability that any one inference will yield an erroneous result, by chance. A lot has been written about this problem, including:\n",
        "\n",
        "- [Its prevalence in fMRI data analysis](https://www.sciencedirect.com/science/article/pii/S1053811912007057?via%3Dihub) (including a compelling illustration by this [prizewinning study](https://blogs.scientificamerican.com/scicurious-brain/ignobel-prize-in-neuroscience-the-dead-salmon-study/)\\)\n",
        "\n",
        "- [How Baysian methods can avoid the problem](http://www.stat.columbia.edu/~gelman/research/published/multiple2f.pdf).\n",
        "\n",
        "- [General approaches for correcting for multiple comparisons](http://www.biostathandbook.com/multiplecomparisons.html).\n",
        "\n",
        "Here we will provide some intuition for the problem using a simple thought experiment, to sensitize you to how much of a problem it can be. Consider performing the same statistical test on *N* different samples corresponding to, say, different voxels in fMRI data, using a *p*-value of $\\alpha$ (typically 0.05) for each test. \n",
        "\n",
        "Thus, for any one test, the probability of getting a Type I error (rejecting $H_0$ when $H_0$ is true) is $\\alpha$:\n",
        "\n",
        "$p_{error}=\\alpha$\n",
        "\n",
        "For two tests, the probably of getting a Type I error for either test is just one minus the combined probability of not getting a Type I error from either one:\n",
        "\n",
        "$p_{error}=1-(1-\\alpha)(1-\\alpha)$\n",
        "\n",
        "For *N* tests, the probably of getting a Type I error for either test is just one minus the combined probability of not getting a Type I error from any one:\n",
        "\n",
        "$p_{error}=1-(1-\\alpha)^N$\n",
        "\n",
        "Run the cell below to see that the probability of getting a Type I error under these conditions grows rapidly with *N*, implying that it becomes very, very likely that you will get a \"statistically significant result\" just by chance if you do enough tests:"
      ]
    },
    {
      "cell_type": "code",
      "execution_count": 2,
      "metadata": {
        "colab": {
          "base_uri": "https://localhost:8080/",
          "height": 297
        },
        "id": "2hOkXUd67ulE",
        "outputId": "04094690-c368-4766-86f2-5c7f44f33083"
      },
      "outputs": [
        {
          "output_type": "execute_result",
          "data": {
            "text/plain": [
              "Text(0, 0.5, '$P_{error}$')"
            ]
          },
          "metadata": {},
          "execution_count": 2
        },
        {
          "output_type": "display_data",
          "data": {
            "text/plain": [
              "<Figure size 432x288 with 1 Axes>"
            ],
            "image/png": "[encoded data removed]"
          },
          "metadata": {
            "needs_background": "light"
          }
        }
      ],
      "source": [
        "import matplotlib.pyplot as plt\n",
        "import numpy as np\n",
        "\n",
        "alpha = 0.05\n",
        "N = np.arange(0,100)\n",
        "plt.plot(N, 1-(1-alpha)**N)\n",
        "plt.xlabel('N')\n",
        "plt.ylabel('$P_{error}$')"
      ]
    },
    {
      "cell_type": "markdown",
      "metadata": {
        "id": "mzkMd-fc9cVM"
      },
      "source": [
        "# Correcting for multiple comparisons"
      ]
    },
    {
      "cell_type": "markdown",
      "metadata": {
        "id": "ncsvEVZB9gNS"
      },
      "source": [
        "\n",
        "\n",
        "There are a number of different methods that can be used to [correct for this problem](https://www.ncbi.nlm.nih.gov/pmc/articles/PMC5506159/). Below are two common methods.\n",
        "\n",
        "\n"
      ]
    },
    {
      "cell_type": "markdown",
      "metadata": {
        "id": "S7_LgTOk9sPr"
      },
      "source": [
        "## Bonferroni correction"
      ]
    },
    {
      "cell_type": "markdown",
      "metadata": {
        "id": "-N0vdWBq9vNU"
      },
      "source": [
        "The simplest way to correct for Type I errors (false positives) in multiple comparisons is to divide $\\alpha$ by the number of comparisons, known as the [Bonferroni correction](https://mathworld.wolfram.com/BonferroniCorrection.html). This is a very conservative test that is typically used when the number of comparisons is relatively small and you want to avoid Type I errors."
      ]
    },
    {
      "cell_type": "markdown",
      "metadata": {
        "id": "_YxAlI859900"
      },
      "source": [
        "## Benjamini–Hochberg procedure\n"
      ]
    },
    {
      "cell_type": "markdown",
      "metadata": {
        "id": "dSE9u8cN-A9U"
      },
      "source": [
        "Another approach is to more carefully control the false-discovery rate using the [Benjamini–Hochberg procedure](https://www.jstor.org/stable/2346101?seq=1#metadata_info_tab_contents):\n",
        "\n",
        "1\\. Rank the individual *p*-values in ascending order, labeled *i*=1...*n*\n",
        "\n",
        "2\\. For each *p*-value, calculate its \"critical value\" as (*i*/*n*)*Q*, where *i* is the rank, *n* is the total number of tests, and *Q* is the false discovery rate (a percentage) that you choose (typically 0.05).\n",
        "\n",
        "3\\. In your rank-ordered, original *p*-values, find the largest value that is smaller than its associated critical value; this *p*-value is the new criterion (i.e., reject $H_0$ for all cases for which *p* ≤ this value)."
      ]
    },
    {
      "cell_type": "markdown",
      "metadata": {
        "id": "_lpgW-g2X7cS"
      },
      "source": [
        "# Exercise"
      ]
    },
    {
      "cell_type": "markdown",
      "metadata": {
        "id": "mxxnxW1xX7cT"
      },
      "source": [
        "In this exercise we will run through an example of correcting for multiple comparisons with both the Benjamini-Hochberg procedure and the more conservative Bonferroni correction. \n",
        "\n",
        "First, simulate multiple (say, 1000) t-tests comparing two samples with equal means and standard deviations, and save the p-values. Obviously, at p<0.05 we expect that ~5% of the simulations to yield a \"statistically significant\" result (of rejecting the NULL hypothesis that the samples come from distributions with equal means).\n",
        "\n",
        "Second, once you have the simulated p-values, apply both methods to address the multiple comparisons problem.\n",
        "\n",
        "Third, set the sample 1 and sample 2 means to be 1 and 2 respectively, and re-run the exercise. What do you notice? What if you make the difference between means even greater?"
      ]
    },
    {
      "cell_type": "code",
      "source": [
        "import numpy as np\n",
        "import scipy.stats as st\n",
        "import matplotlib.pyplot as plt\n",
        "from IPython.display import display, clear_output"
      ],
      "metadata": {
        "id": "u65uhmyaxex-"
      },
      "execution_count": 3,
      "outputs": []
    },
    {
      "cell_type": "code",
      "source": [
        "# first simulate 1000 t-tests comparing two samples with equal means and standard deviations\n",
        "\n",
        "p_vals = np.zeros(1000)\n",
        "\n",
        "for i in np.arange(np.size(p_vals)):\n",
        "  X1 = np.random.normal(0, 1, 20)\n",
        "  X2 = np.random.normal(0, 1, 20)\n",
        "  _, pval = st.ttest_ind(X1, X2)\n",
        "  p_vals[i] = pval"
      ],
      "metadata": {
        "id": "BjNaNPf_waYO"
      },
      "execution_count": 4,
      "outputs": []
    },
    {
      "cell_type": "code",
      "source": [
        "# percentage of simulations with pval < 0.05\n",
        "np.size(p_vals[p_vals < 0.05])/np.size(p_vals)"
      ],
      "metadata": {
        "colab": {
          "base_uri": "https://localhost:8080/"
        },
        "id": "DUeCwvhEyL6B",
        "outputId": "83c9c451-31ce-4fc3-d630-8e3341b7d9b6"
      },
      "execution_count": 7,
      "outputs": [
        {
          "output_type": "execute_result",
          "data": {
            "text/plain": [
              "0.047"
            ]
          },
          "metadata": {},
          "execution_count": 7
        }
      ]
    },
    {
      "cell_type": "code",
      "source": [
        "# for Bonferonni correction, divide the threshold (0.05) by number of comparisons (1000)\n",
        "np.size(p_vals[p_vals < 0.05/1000])/np.size(p_vals)"
      ],
      "metadata": {
        "colab": {
          "base_uri": "https://localhost:8080/"
        },
        "id": "jw1ZQUFByRN1",
        "outputId": "b1459e8f-bd10-45c5-ba80-ae93689d9101"
      },
      "execution_count": 8,
      "outputs": [
        {
          "output_type": "execute_result",
          "data": {
            "text/plain": [
              "0.0"
            ]
          },
          "metadata": {},
          "execution_count": 8
        }
      ]
    },
    {
      "cell_type": "code",
      "source": [
        "# Benjamini–Hochberg procedure\n",
        "p_vals.sort() # sorted p_values\n",
        "p_val_new = 0\n",
        "\n",
        "for i in np.arange(np.size(p_vals)):\n",
        "  crit_val = (i/1000) * 0.05\n",
        "  if p_vals[i] < crit_val:\n",
        "    p_val_new = p_vals[i]\n",
        "\n",
        "# number of significant results is still 0\n",
        "np.size(p_vals[p_vals < p_val_new])/np.size(p_vals)"
      ],
      "metadata": {
        "colab": {
          "base_uri": "https://localhost:8080/"
        },
        "id": "3bFI4wIpyf64",
        "outputId": "f4c50c7b-8af0-43e7-dc4d-72b781a25448"
      },
      "execution_count": 16,
      "outputs": [
        {
          "output_type": "execute_result",
          "data": {
            "text/plain": [
              "0.0"
            ]
          },
          "metadata": {},
          "execution_count": 16
        }
      ]
    },
    {
      "cell_type": "code",
      "source": [
        "# changing the sample means\n",
        "p_vals = np.zeros(1000)\n",
        "\n",
        "for i in np.arange(np.size(p_vals)):\n",
        "  X1 = np.random.normal(1, 1, 20)\n",
        "  X2 = np.random.normal(2, 1, 20)\n",
        "  _, pval = st.ttest_ind(X1, X2)\n",
        "  p_vals[i] = pval\n",
        "\n",
        "np.size(p_vals[p_vals < 0.05])/np.size(p_vals)"
      ],
      "metadata": {
        "colab": {
          "base_uri": "https://localhost:8080/"
        },
        "id": "LDHujZaP0B2O",
        "outputId": "15b5aff8-1718-4817-a0b1-b78c26ed4aac"
      },
      "execution_count": 17,
      "outputs": [
        {
          "output_type": "execute_result",
          "data": {
            "text/plain": [
              "0.866"
            ]
          },
          "metadata": {},
          "execution_count": 17
        }
      ]
    },
    {
      "cell_type": "code",
      "source": [
        "# for Bonferonni correction, divide the threshold (0.05) by number of comparisons (1000)\n",
        "np.size(p_vals[p_vals < 0.05/1000])/np.size(p_vals)"
      ],
      "metadata": {
        "colab": {
          "base_uri": "https://localhost:8080/"
        },
        "id": "sLp2X97l0K9y",
        "outputId": "546b85e9-a772-49b2-8dc7-c8ca52f34b27"
      },
      "execution_count": 18,
      "outputs": [
        {
          "output_type": "execute_result",
          "data": {
            "text/plain": [
              "0.12"
            ]
          },
          "metadata": {},
          "execution_count": 18
        }
      ]
    },
    {
      "cell_type": "code",
      "source": [
        "# Benjamini–Hochberg procedure\n",
        "p_vals.sort() # sorted p_values\n",
        "p_val_new = 0\n",
        "\n",
        "for i in np.arange(np.size(p_vals)):\n",
        "  crit_val = (i/1000) * 0.05\n",
        "  if p_vals[i] < crit_val:\n",
        "    p_val_new = p_vals[i]\n",
        "\n",
        "# number of significant results is still 0\n",
        "np.size(p_vals[p_vals < p_val_new])/np.size(p_vals)"
      ],
      "metadata": {
        "colab": {
          "base_uri": "https://localhost:8080/"
        },
        "id": "tje6_oqB0NYy",
        "outputId": "8bc53475-c071-43a2-fd76-1cf5787e572e"
      },
      "execution_count": 19,
      "outputs": [
        {
          "output_type": "execute_result",
          "data": {
            "text/plain": [
              "0.851"
            ]
          },
          "metadata": {},
          "execution_count": 19
        }
      ]
    },
    {
      "cell_type": "markdown",
      "metadata": {
        "id": "UqoNXyuxP-go"
      },
      "source": [
        "# Additional Resources\n"
      ]
    },
    {
      "cell_type": "markdown",
      "metadata": {
        "id": "clnBO4FU28El"
      },
      "source": [
        "How to correct for multiple comparisons in [Matlab](https://www.mathworks.com/help/stats/multcompare.html), [R](https://stat.ethz.ch/R-manual/R-devel/library/stats/html/p.adjust.html), and [Python](https://www.statsmodels.org/dev/generated/statsmodels.stats.multitest.multipletests.html)"
      ]
    },
    {
      "cell_type": "markdown",
      "metadata": {
        "id": "tteEm2Qlgbb3"
      },
      "source": [
        "# Credits\n",
        "\n",
        "Copyright 2021 by Joshua I. Gold, University of Pennsylvania"
      ]
    }
  ],
  "metadata": {
    "colab": {
      "collapsed_sections": [
        "pKIiY6p3GRFq"
      ],
      "provenance": [],
      "include_colab_link": true
    },
    "kernelspec": {
      "display_name": "Python 3.9.6 64-bit",
      "language": "python",
      "name": "python3"
    },
    "language_info": {
      "name": "python",
      "version": "3.9.6"
    },
    "vscode": {
      "interpreter": {
        "hash": "aee8b7b246df8f9039afb4144a1f6fd8d2ca17a180786b69acc140d282b71a49"
      }
    }
  },
  "nbformat": 4,
  "nbformat_minor": 0
}